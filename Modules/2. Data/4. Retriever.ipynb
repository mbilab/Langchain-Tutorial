{
 "cells": [
  {
   "cell_type": "markdown",
   "metadata": {},
   "source": [
    "# 1. Embedding-based Retrieval\n",
    "基於 embedding 間的相似度計算 (可見 3. Vector Store.ipynb 中關於 embedding 的介紹)，主要有兩種類型，`similarity` 和 `mmr`。\n",
    "\n",
    "還有一些可設定的參數如 `k` 和 `score_threshold`"
   ]
  },
  {
   "cell_type": "code",
   "execution_count": 7,
   "metadata": {},
   "outputs": [],
   "source": [
    "from langchain.vectorstores import Qdrant\n",
    "from langchain.embeddings import OpenAIEmbeddings\n",
    "from langchain.schema import Document\n",
    "from langchain_setup import pprint_documents\n",
    "\n",
    "# fmt: off\n",
    "docs = [\n",
    "    Document(page_content=\"magia\", metadata={\"source\": \"魔法少女まどか☆マギカ\", \"singer\": \"Kalafina\", \"genre\": \"anime\"}),\n",
    "    Document(page_content=\"烏龍茶是可燃的\", metedata={\"source\": \"GRAND BLUE\", \"author\": \"井上堅二\", \"genre\": 'anime'}),\n",
    "    Document(page_content=\"Knock Knock Knocking on u r heart\", metedata={\"singer\": \"李彩演\", \"genre\": 'kpop'}),\n",
    "    Document(page_content=\"你指尖躍動的電光，是我此生不變的信仰，唯我超電磁砲永世長存\", metadata={\"character\": \"御坂美琴\", \"genre\": \"anime\"},),\n",
    "    Document(page_content=\"Deja vu! I've just been in this place before\", metadata={\"source\": \"Initial D\", \"genre\": \"anime\"}),\n",
    "    Document(page_content=\"ふわふわる ふわふわり\", metadata={\"name\": \"戀愛循環\", \"genre\": \"anime\"})\n",
    "]\n",
    "# fmt: on\n",
    "\n",
    "vectorstore = Qdrant.from_documents(\n",
    "    docs,\n",
    "    embedding=OpenAIEmbeddings(),\n",
    "    location=\":memory:\",\n",
    ")"
   ]
  },
  {
   "cell_type": "markdown",
   "metadata": {},
   "source": [
    "## 1.1 Similarity (相似度)\n",
    "- 預設演算法\n",
    "\n",
    "1. 比較 embedding 算出相似度\n",
    "\n",
    "2. 只挑出相似度大於等於 `score_threshold` 的文件 (documents) (如果 `score_threshold` 不為 `None` 的話)\n",
    "\n",
    "3. 再挑出其中相似度前 k 高的文件"
   ]
  },
  {
   "cell_type": "code",
   "execution_count": 8,
   "metadata": {},
   "outputs": [
    {
     "name": "stdout",
     "output_type": "stream",
     "text": [
      "Document 1:\n",
      "\n",
      "ふわふわる ふわふわり\n",
      "\n",
      "Metadata:{'genre': 'anime', 'name': '戀愛循環'}\n",
      "----------------------------------------------------------------------------------------------------\n",
      "Document 2:\n",
      "\n",
      "你指尖躍動的電光，是我此生不變的信仰，唯我超電磁砲永世長存\n",
      "\n",
      "Metadata:{'character': '御坂美琴', 'genre': 'anime'}\n"
     ]
    }
   ],
   "source": [
    "retriver = vectorstore.as_retriever(\n",
    "    search_type=\"similarity\",  # default\n",
    "    search_kwargs={\n",
    "        \"filter\": {'genre': 'anime'},  # Filter by metadata\n",
    "        \"score_threshold\": None,\n",
    "        \"k\": 2,\n",
    "        # More kwargs for `Qdrant.similarity_search` or `QdrantClient.search` like `offset`, `consistency`, ...\n",
    "    },\n",
    ")\n",
    "pprint_documents(retriver.get_relevant_documents(\"神曲\"))"
   ]
  },
  {
   "cell_type": "markdown",
   "metadata": {},
   "source": [
    "更複雜的針對詮釋資料 (metadata) 的過濾 (filtering)，可以自己做 `qdrant_client.http.models.filter` 傳進去。可參考 [Qdrant官方文件](https://qdrant.tech/documentation/concepts/filtering/)"
   ]
  },
  {
   "cell_type": "markdown",
   "metadata": {},
   "source": [
    "## 1.2 Maximum marginal relevance (最大邊界相關算法)\n",
    "1. 比較 embedding 算出相似度\n",
    "\n",
    "2. 只挑出相似度大於等於 `score_threshold` 的文件 (documents) (如果 `score_threshold` 不為 `None` 的話)\n",
    "\n",
    "3. 再挑出其中相似度前 `fetch_k` 高的文件\n",
    "\n",
    "4. 再對剩下的文件做以 MMR 演算法取 `k` 個\n",
    "   - 簡言之是考慮到候選文件間的相似度，避免相似度高的文件都是差不多的文件。\n",
    "   \n",
    "   - $ MMR(q,D,R) = \\argmax_{d_i \\in D} \\left[ \\lambda sim(q,d_i) - (1-\\lambda)\\max_{d_j \\in R}sim(d_i, d_j) \\right]  $\n",
    "      - q: query\n",
    "      - D: 還沒被抽取的文件的集合\n",
    "      - R: 已抽取的文件的集合\n",
    "      - lambda ($\\lambda$): \n",
    "         - 可調整的參數，介於 0~1 之間。\n",
    "         - 是一個 tradeoff。越高則總體跟問題 (query) 越像，但文件間多樣性越低，越低則跟總體跟問題越不像，但文件間多樣性越高\n",
    "      - 會一個一個迭代地 (iteratively) 的選擇"
   ]
  },
  {
   "cell_type": "code",
   "execution_count": 9,
   "metadata": {},
   "outputs": [
    {
     "name": "stdout",
     "output_type": "stream",
     "text": [
      "Document 1:\n",
      "\n",
      "ふわふわる ふわふわり\n",
      "\n",
      "Metadata:{'genre': 'anime', 'name': '戀愛循環'}\n",
      "----------------------------------------------------------------------------------------------------\n",
      "Document 2:\n",
      "\n",
      "你指尖躍動的電光，是我此生不變的信仰，唯我超電磁砲永世長存\n",
      "\n",
      "Metadata:{'character': '御坂美琴', 'genre': 'anime'}\n",
      "----------------------------------------------------------------------------------------------------\n",
      "Document 3:\n",
      "\n",
      "magia\n",
      "\n",
      "Metadata:{'genre': 'anime', 'singer': 'Kalafina', 'source': '魔法少女まどか☆マギカ'}\n"
     ]
    }
   ],
   "source": [
    "retriver = vectorstore.as_retriever(\n",
    "    search_type=\"mmr\",\n",
    "    search_kwargs={\n",
    "        \"score_threshold\": None,\n",
    "        \"fetch_k\": 50,\n",
    "        \"lambda_mult\": 0.5,  # 多樣性，越低越多樣 (diverse)\n",
    "        \"k\": 3,\n",
    "        # More kwargs for `Qdrant.similarity_search` or `QdrantClient.search` like `consistency`, ...\n",
    "    },\n",
    ")\n",
    "pprint_documents(retriver.get_relevant_documents(\"神曲\"))"
   ]
  },
  {
   "cell_type": "markdown",
   "metadata": {},
   "source": [
    "## 1.3 Similarity Score Threshold (相似度分數閥值)"
   ]
  },
  {
   "cell_type": "markdown",
   "metadata": {},
   "source": [
    "想要抽取 (retreive) 不固定的數量的文件 (documents)，其實就是把 `k` 設非常大，其就只會靠 `score_threshold` 來挑選了"
   ]
  },
  {
   "cell_type": "code",
   "execution_count": 10,
   "metadata": {},
   "outputs": [
    {
     "name": "stdout",
     "output_type": "stream",
     "text": [
      "Document 1:\n",
      "\n",
      "ふわふわる ふわふわり\n",
      "\n",
      "Metadata:{'genre': 'anime', 'name': '戀愛循環'}\n",
      "----------------------------------------------------------------------------------------------------\n",
      "Document 2:\n",
      "\n",
      "你指尖躍動的電光，是我此生不變的信仰，唯我超電磁砲永世長存\n",
      "\n",
      "Metadata:{'character': '御坂美琴', 'genre': 'anime'}\n",
      "----------------------------------------------------------------------------------------------------\n",
      "Document 3:\n",
      "\n",
      "magia\n",
      "\n",
      "Metadata:{'genre': 'anime', 'singer': 'Kalafina', 'source': '魔法少女まどか☆マギカ'}\n",
      "----------------------------------------------------------------------------------------------------\n",
      "Document 4:\n",
      "\n",
      "Knock Knock Knocking on u r heart\n",
      "\n",
      "Metadata:{}\n"
     ]
    }
   ],
   "source": [
    "retriever = vectorstore.as_retriever(\n",
    "    search_type=\"similarity\",  # default\n",
    "    search_kwargs={\n",
    "        \"score_threshold\": 0.72,  \n",
    "        \"k\": 9999,\n",
    "        # More kwargs for `Qdrant.similarity_search` or `QdrantClient.search` like `offset`, `consistency`, ...\n",
    "    },\n",
    ")\n",
    "pprint_documents(retriever.get_relevant_documents(\"神曲\"))"
   ]
  },
  {
   "cell_type": "code",
   "execution_count": 11,
   "metadata": {},
   "outputs": [
    {
     "name": "stdout",
     "output_type": "stream",
     "text": [
      "ふわふわる ふわふわり 0.7892050704635887\n",
      "你指尖躍動的電光，是我此生不變的信仰，唯我超電磁砲永世長存 0.7732077239402988\n",
      "magia 0.7587640414978051\n",
      "Knock Knock Knocking on u r heart 0.7286502416275356\n",
      "烏龍茶是可燃的 0.7183140128766331\n",
      "Deja vu! I've just been in this place before 0.7023976914408796\n"
     ]
    }
   ],
   "source": [
    "result = vectorstore.similarity_search_with_relevance_scores('神曲', k=100)\n",
    "for document, score in result:\n",
    "    print(document.page_content, score)"
   ]
  },
  {
   "cell_type": "markdown",
   "metadata": {},
   "source": [
    "# 其他不同的 Retriever\n",
    "雖然藉由比較向量相似度算出相關性分數的 Embedding-based Retrieval 是主流，但其實還有很多不同的算法。而之後也會介紹到我們並不是只能挑一種算法...\n",
    "|           | 判斷相似的依據      | 速度 | 例如                      |\n",
    "|-----------|---------------------|------|---------------------------|\n",
    "| lexical   | 表面文面            | 快   | 關鍵字搜尋、BM25          |\n",
    "| semantics | 深層語意            | 中   | Embedding-based Retrieval |\n",
    "| cross     | 表面文面 + 深層語意 | 慢   | cross-encoder             |"
   ]
  },
  {
   "cell_type": "code",
   "execution_count": 12,
   "metadata": {},
   "outputs": [],
   "source": [
    "# 單靠詞彙的統計來抽取 (retrieve) 的演算法\n",
    "from langchain.retrievers import BM25Retriever, TFIDFRetriever\n",
    "\n",
    "# 其他依靠向量的抽取 (retrieve) 演算法\n",
    "from langchain.retrievers import KNNRetriever, SVMRetriever\n",
    "\n",
    "# 針對某些現成服務製作的現成 retriever\n",
    "from langchain.retrievers import ArxivRetriever, GoogleCloudEnterpriseSearchRetriever"
   ]
  }
 ],
 "metadata": {
  "kernelspec": {
   "display_name": "Python 3",
   "language": "python",
   "name": "python3"
  },
  "language_info": {
   "codemirror_mode": {
    "name": "ipython",
    "version": 3
   },
   "file_extension": ".py",
   "mimetype": "text/x-python",
   "name": "python",
   "nbconvert_exporter": "python",
   "pygments_lexer": "ipython3",
   "version": "3.10.12"
  },
  "orig_nbformat": 4
 },
 "nbformat": 4,
 "nbformat_minor": 2
}
